{
 "cells": [
  {
   "cell_type": "code",
   "execution_count": 6,
   "metadata": {},
   "outputs": [],
   "source": [
    "from moviepy.editor import VideoFileClip\n",
    "from IPython.display import HTML\n",
    "from utils.lane_finder import LaneFinder\n",
    "from utils.line import *\n",
    "import pickle"
   ]
  },
  {
   "cell_type": "code",
   "execution_count": 8,
   "metadata": {},
   "outputs": [
    {
     "name": "stdout",
     "output_type": "stream",
     "text": [
      "{'mtx': array([[  1.15396093e+03,   0.00000000e+00,   6.69705357e+02],\n",
      "       [  0.00000000e+00,   1.14802496e+03,   3.85656234e+02],\n",
      "       [  0.00000000e+00,   0.00000000e+00,   1.00000000e+00]]), 'dist': array([[ -2.41017956e-01,  -5.30721173e-02,  -1.15810355e-03,\n",
      "         -1.28318856e-04,   2.67125290e-02]])}\n"
     ]
    }
   ],
   "source": [
    "camera_calibration = pickle.load( open( \"calibration.p\", \"rb\" ) )\n",
    "print(camera_calibration)\n",
    "\n",
    "l_line = Line()\n",
    "r_line = Line()\n",
    "\n",
    "lane_finder = LaneFinder(l_line, r_line, camera_calibration)"
   ]
  },
  {
   "cell_type": "code",
   "execution_count": null,
   "metadata": {
    "collapsed": true
   },
   "outputs": [],
   "source": [
    "from utils.vehicle_detector import VehicleDetector\n",
    "\n",
    "# parameters of feature extraction\n",
    "\n",
    "color_space = 'YCrCb' # Can be GRAY, RGB, HSV, LUV, HLS, YUV, YCrCb\n",
    "orient =9  # HOG orientations\n",
    "pix_per_cell = 8 # HOG pixels per cell\n",
    "cell_per_block = 2 # HOG cells per block\n",
    "hog_channel = 'ALL' # Can be 0, 1, 2, or \"ALL\"\n",
    "spatial_size = (32, 32) # Spatial binning dimensions\n",
    "hist_bins = 32    # Number of histogram bins\n",
    "spatial_feat = True # Spatial features on or off\n",
    "hist_feat = True # Histogram features on or off\n",
    "hog_feat = True # HOG features on or off\n"
   ]
  },
  {
   "cell_type": "code",
   "execution_count": 4,
   "metadata": {
    "collapsed": true
   },
   "outputs": [],
   "source": [
    "def process_video(img):\n",
    "    new_img = np.copy(img)\n",
    "    img_lanes = lane_finder.pipeline(new_img)\n",
    "    return img_lanes"
   ]
  },
  {
   "cell_type": "code",
   "execution_count": 5,
   "metadata": {},
   "outputs": [
    {
     "name": "stdout",
     "output_type": "stream",
     "text": [
      "[MoviePy] >>>> Building video output.mp4\n",
      "[MoviePy] Writing video output.mp4\n"
     ]
    },
    {
     "name": "stderr",
     "output_type": "stream",
     "text": [
      "100%|█████████▉| 1260/1261 [02:40<00:00,  8.01it/s]\n"
     ]
    },
    {
     "name": "stdout",
     "output_type": "stream",
     "text": [
      "[MoviePy] Done.\n",
      "[MoviePy] >>>> Video ready: output.mp4 \n",
      "\n",
      "CPU times: user 10min 7s, sys: 55.8 s, total: 11min 3s\n",
      "Wall time: 2min 40s\n"
     ]
    }
   ],
   "source": [
    "video_output1 = 'output.mp4'\n",
    "video_input1 = VideoFileClip('project_video.mp4')\n",
    "processed_video = video_input1.fl_image(process_video)\n",
    "%time processed_video.write_videofile(video_output1, audio=False)"
   ]
  }
 ],
 "metadata": {
  "kernelspec": {
   "display_name": "Python [default]",
   "language": "python",
   "name": "python3"
  },
  "language_info": {
   "codemirror_mode": {
    "name": "ipython",
    "version": 3
   },
   "file_extension": ".py",
   "mimetype": "text/x-python",
   "name": "python",
   "nbconvert_exporter": "python",
   "pygments_lexer": "ipython3",
   "version": "3.5.2"
  }
 },
 "nbformat": 4,
 "nbformat_minor": 2
}
